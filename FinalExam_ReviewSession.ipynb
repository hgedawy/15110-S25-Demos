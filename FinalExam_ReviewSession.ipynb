{
 "cells": [
  {
   "cell_type": "markdown",
   "id": "d0cc7641",
   "metadata": {},
   "source": [
    "# Matlibplot\n",
    "\n",
    "You are working as a data analyst for a small retail company. The company has provided you with a file named sales_data.txt that contains sales information for different products. Your task is to read the data from this file and create a bar chart to visualize the total sales for each product.\n",
    "\n",
    "**Part 1: Reading from the File**\n",
    "\n",
    "Write a Python function named `read_sales_data` that reads the sales data from the file sales_data.txt. The file contains lines in the following format:\n",
    "```\n",
    "ProductA, 150\n",
    "ProductB, 200\n",
    "ProductC, 300\n",
    "ProductA, 100\n",
    "ProductB, 50\n",
    "```\n",
    "\n",
    "Each line contains a product name and the sales amount separated by a comma. Your function should return a dictionary where the keys are product names and the values are the total sales for each product.\n",
    "\n"
   ]
  },
  {
   "cell_type": "code",
   "execution_count": null,
   "id": "9625f2d2",
   "metadata": {},
   "outputs": [],
   "source": [
    "def read_sales_data(file_path):\n",
    "    sales_data = {}\n",
    "\n",
    "\n",
    "\n",
    "\n",
    "\n",
    "\n",
    "\n",
    "\n",
    "\n",
    "\n",
    "\n",
    "\n",
    "\n",
    "\n",
    "\n",
    "    return sales_data\n",
    "\n",
    "sales_data = read_sales_data('sales_data.txt')"
   ]
  },
  {
   "cell_type": "markdown",
   "id": "a64f932f-8003-4ade-bb5f-9dd3222bc889",
   "metadata": {},
   "source": [
    "**Part 2: Plotting a Bar Chart**\n",
    "\n",
    "Write a Python function named `plot_sales_data` that takes the dictionary returned by read_sales_data and creates a bar chart to visualize the total sales for each product. Use the matplotlib library to create the bar chart. The x-axis should represent the product names, and the y-axis should represent the total sales."
   ]
  },
  {
   "cell_type": "code",
   "execution_count": null,
   "id": "de667729-e639-4195-9f1c-6339e1c18bed",
   "metadata": {},
   "outputs": [],
   "source": [
    "\n",
    "def plot_sales_data(sales_data):\n",
    "    products = list(sales_data.keys())\n",
    "    sales = list(sales_data.values())\n",
    "    \n",
    "    plt.bar(products, sales)\n",
    "    plt.xlabel('Products')\n",
    "    plt.ylabel('Total Sales')\n",
    "    plt.title('Total Sales for Each Product')\n",
    "    plt.show()\n",
    "plot_sales_data(sales_data)"
   ]
  },
  {
   "cell_type": "markdown",
   "id": "27796655-ce4f-4abf-a732-21ede677b452",
   "metadata": {},
   "source": [
    "### Example Main Functions to remember\n",
    "- Reading using CSV Library\n",
    "- Plotting:\n",
    "    - plt.title\n",
    "    - plt.xlabel\n",
    "    - plt.ylabel\n",
    "    - plt.xticks - for line and scatter plots\n",
    "    - Different Plot types\n",
    "        - Line: plt.plot\n",
    "            - Line label\n",
    "            - Line color\n",
    "        - Bar:\n",
    "            - tick_label\n",
    "        - Scatter: plt.scatter\n",
    "            - Line label\n",
    "            - Line color\n",
    "        - Histogram: plt.hist\n",
    "            - color\n",
    "            - bins \n",
    "        - Pie Chart: plt.pie\n",
    "            - labels\n",
    "        - Properties: color  \n",
    "    - plt.show"
   ]
  },
  {
   "cell_type": "markdown",
   "id": "ed4af031",
   "metadata": {},
   "source": [
    "# Recursive Functions "
   ]
  },
  {
   "attachments": {},
   "cell_type": "markdown",
   "id": "3db1ff76-a4fd-4fd6-814b-149bb4ec24bd",
   "metadata": {},
   "source": [
    "Write recursive function `oddValues(L)` that  returns a list of only the odd values in L in the same order they appear.\n",
    "\n",
    " Note: Don’t make a list of odd values, build it in the return"
   ]
  },
  {
   "cell_type": "code",
   "execution_count": null,
   "id": "375cbca4-d8d5-49de-b305-06ae3150f251",
   "metadata": {},
   "outputs": [],
   "source": [
    "def oddValues(L):\n",
    "    \n",
    "\n",
    "\n",
    "\n",
    "\n",
    "\n",
    "\n",
    "\n",
    "\n",
    "\n",
    "\n",
    "\n",
    "\n",
    "\n",
    "\n",
    "\n",
    "    \n",
    "print(oddValues([1,3,4,5,6,19,17,3]))"
   ]
  },
  {
   "cell_type": "markdown",
   "id": "dfb9746b-a644-48ee-adb8-da417dd456e1",
   "metadata": {},
   "source": [
    "**Notes**\n",
    "- most of the recursive functions you write should be short and contained\n",
    "    - if you find your self building something really big\n",
    "        - pause and check\n",
    "-  Variables are local to each funciton \n",
    "    - Thereisn't a variable that can track something across these function calls"
   ]
  },
  {
   "cell_type": "markdown",
   "id": "dff33488",
   "metadata": {},
   "source": [
    "# Complexity"
   ]
  },
  {
   "cell_type": "markdown",
   "id": "ec292d44",
   "metadata": {},
   "source": [
    "A fortunate tuple (coined term) is a tuple that has a frequency in the list equal to its length.\n",
    "\n",
    "Write function `fortunateTuples(L)` which takes a list (L) of tuples and returns a list containing all the fortunate tuples in L. Your solution should run in O(N) time.\n",
    "\n",
    "Consider the following example:\n",
    "```\n",
    "assert(fortunateTuples([(1, 2), (3, 4), (1, 2), (5,), (3, 4, 5)])== [(1, 2), (5,)])\n",
    "assert(fortunateTuples([(\"A\", \"B\"), (\"C\", \"D\")] == [])\n",
    "assert(fortunateTuples([]) == [])\n",
    "```"
   ]
  },
  {
   "cell_type": "code",
   "execution_count": null,
   "id": "753ff196",
   "metadata": {},
   "outputs": [],
   "source": [
    "def fortunateTuples(lst):\n",
    "\n",
    "\n",
    "\n",
    "\n",
    "\n",
    "\n",
    "\n",
    "\n",
    "\n",
    "\n",
    "\n",
    "\n",
    "\n",
    "\n",
    "\n",
    "\n",
    "\n",
    "\n",
    "\n",
    "\n",
    "\n",
    "\n",
    "\n",
    "\n",
    "\n",
    "\n",
    "print(fortunateTuples([(1, 2), (3, 4), (1, 2), (5,), (3, 4, 5)])) #[(1, 2), (5,)]\n",
    "print(fortunateTuples([(\"A\", \"B\"), (\"C\", \"D\")]) ) #[]\n",
    "print(fortunateTuples([]) ) #[]"
   ]
  },
  {
   "cell_type": "markdown",
   "id": "98ae6f5a-5dd9-4e7d-816b-ffb4f5c55dd3",
   "metadata": {},
   "source": [
    "# Properties of Data Types\n",
    "\n",
    "**immutable data types** cannot be changed, operations and functions on them often create new objects rather than modifying the original ones. \n"
   ]
  },
  {
   "cell_type": "code",
   "execution_count": null,
   "id": "c51ff11c-a33f-4532-9b84-329b5b9c6559",
   "metadata": {},
   "outputs": [],
   "source": [
    "#################\n",
    "\n",
    "\n",
    "\n",
    "\n",
    "\n",
    "\n",
    "\n",
    "\n",
    "\n",
    "\n",
    "\n",
    "\n",
    "\n",
    "\n",
    "\n",
    "\n",
    "\n",
    "\n",
    "\n",
    "\n",
    "\n",
    "\n",
    "\n",
    "\n",
    "\n",
    "\n",
    "\n",
    "\n",
    "########################"
   ]
  },
  {
   "cell_type": "markdown",
   "id": "ecaf53b8-e6f7-49bb-8bd1-3de85f07125f",
   "metadata": {},
   "source": [
    "# Destructive vs. Non-Destructive  Operations for Mutable Data Types\n",
    "**NOTE:  Never modify a mutable data type (using destructive operations) while iterating over it. Instead, iterate over a proper copy.**\n"
   ]
  },
  {
   "cell_type": "code",
   "execution_count": null,
   "id": "b7aadec0-e552-4e9a-8fad-3902d14c36f3",
   "metadata": {},
   "outputs": [],
   "source": [
    "###############\n",
    "\n",
    "\n",
    "\n",
    "\n",
    "\n",
    "\n",
    "\n",
    "\n",
    "\n",
    "\n",
    "\n",
    "\n",
    "\n",
    "\n",
    "\n",
    "\n",
    "\n",
    "\n",
    "\n",
    "\n",
    "\n",
    "\n",
    "\n",
    "\n",
    "\n",
    "\n",
    "\n",
    "\n",
    "\n",
    "\n",
    "\n",
    "\n",
    "##############"
   ]
  },
  {
   "cell_type": "markdown",
   "id": "d90d3e65",
   "metadata": {},
   "source": [
    "# Aliasing & Copies\n",
    "\n",
    "**Primitive Types (immutable)**"
   ]
  },
  {
   "cell_type": "code",
   "execution_count": 12,
   "id": "87bd188f",
   "metadata": {},
   "outputs": [
    {
     "name": "stdout",
     "output_type": "stream",
     "text": [
      "2864830087696 2864830087696\n",
      "10\n",
      "15\n",
      "2864830087696 2864830087856\n"
     ]
    }
   ],
   "source": [
    "##### Primitive Types (immutable)\n",
    "a = 10\n",
    "b = a #same object (alias)\n",
    "print(id(a), id(b))\n",
    "\n",
    "b += 5 # new object\n",
    "\n",
    "print(a) \n",
    "print(b)\n",
    "print(id(a), id(b))"
   ]
  },
  {
   "cell_type": "markdown",
   "id": "266e1c08-525d-409f-aa66-8340b7d2f794",
   "metadata": {},
   "source": [
    "**Strings (immutable)**"
   ]
  },
  {
   "cell_type": "code",
   "execution_count": 13,
   "id": "5f048502-7576-44c2-a3d7-f18bad3479dc",
   "metadata": {},
   "outputs": [
    {
     "name": "stdout",
     "output_type": "stream",
     "text": [
      "2864906356272 2864906356272\n",
      "2864906356272 2864909928176\n",
      "hello\n",
      "world\n",
      "2864906356272 2864909928176\n"
     ]
    }
   ],
   "source": [
    "#### Strings (immutable)\n",
    "\n",
    "s1 = \"hello\"\n",
    "s2 = s1 #same object (alias)\n",
    "print(id(s1), id(s2))\n",
    "\n",
    "s2 = s1.upper() #new object\n",
    "#s1 = s1.upper() #new object\n",
    "\n",
    "print(id(s1), id(s2))\n",
    "\n",
    "print(s1)\n",
    "print(s2)\n",
    "print(id(s1), id(s2))"
   ]
  },
  {
   "cell_type": "markdown",
   "id": "416084da-b0ca-4514-9efa-e4cfaa42dbf7",
   "metadata": {},
   "source": [
    "**Tuples (immutable)**"
   ]
  },
  {
   "cell_type": "code",
   "execution_count": 15,
   "id": "6bd0a79c-025a-4a83-819f-82056ba68e58",
   "metadata": {},
   "outputs": [
    {
     "name": "stdout",
     "output_type": "stream",
     "text": [
      "2864910229632 2864910229632\n",
      "(1, 2, 3)\n",
      "(4, 5, 6)\n",
      "2864910229632 2864909993600\n"
     ]
    }
   ],
   "source": [
    "#### Tuples (immutable)\n",
    "\n",
    "t1 = (1, 2, 3)\n",
    "t2 = t1 #same object (alias)\n",
    "print(id(t1), id(t2))\n",
    "\n",
    "t2 = t1+(4, 5, 6) #new object\n",
    "#t2 = t2 + (4, 5) #new object\n",
    "\n",
    "print(t1)\n",
    "print(t2)\n",
    "print(id(t1), id(t2))"
   ]
  },
  {
   "cell_type": "markdown",
   "id": "9068e996-9618-4feb-8013-a3e9bee22342",
   "metadata": {},
   "source": [
    "**Lists (mutable)**"
   ]
  },
  {
   "cell_type": "code",
   "execution_count": 17,
   "id": "c610a3d7-9342-4bd2-85ed-40650a73cd4c",
   "metadata": {},
   "outputs": [
    {
     "name": "stdout",
     "output_type": "stream",
     "text": [
      "[10, 2, 3]\n",
      "[10, 2, 3]\n",
      "2864910308992 2864910308992\n",
      "[1, 2, 3]\n",
      "[10, 2, 3]\n",
      "2864910309440 2864910307712\n"
     ]
    }
   ],
   "source": [
    "##### Lists (Mutable)\n",
    "\n",
    "### 1D\n",
    "\n",
    "# Alias\n",
    "print(\"alias\")\n",
    "list1 = [1, 2, 3]\n",
    "list2 = list1 #same object (alias)\n",
    "list2[0] = 10 # you can change the original list (MUTABLE)\n",
    "print(list1)\n",
    "print(list2)\n",
    "print(id(list1), id(list2))\n",
    "\n",
    "# Copy\n",
    "print(\"copy\")\n",
    "list1 = [1, 2, 3]\n",
    "list2 = list1.copy()  # proper copy\n",
    "list2[0] = 10\n",
    "print(list1)\n",
    "print(list2)\n",
    "print(id(list1), id(list2))"
   ]
  },
  {
   "cell_type": "code",
   "execution_count": 20,
   "id": "5d70564e-7985-440d-bf39-df7fc034c440",
   "metadata": {},
   "outputs": [
    {
     "name": "stdout",
     "output_type": "stream",
     "text": [
      "alias\n",
      "[[10, 2], [3, 4]]\n",
      "[[10, 2], [3, 4]]\n",
      "2864939325760 2864939325760\n",
      "shallow copy\n",
      "[[10, 2], [3, 4]]\n",
      "[[10, 2], [3, 4]]\n",
      "2864910307712 2864910316608\n",
      "deep copy\n",
      "[[1, 2], [3, 4]]\n",
      "[[10, 2], [3, 4]]\n",
      "2864939326528 2864939320640\n"
     ]
    }
   ],
   "source": [
    "import copy\n",
    "\n",
    "### 2D\n",
    "\n",
    "# Alias\n",
    "print(\"alias\")\n",
    "list1 = [[1, 2], [3, 4]]\n",
    "list2 = list1\n",
    "list2[0][0] = 10\n",
    "print(list1)\n",
    "print(list2)\n",
    "print(id(list1), id(list2))\n",
    "\n",
    "# Shallow Copy\n",
    "print(\"shallow copy\")\n",
    "list1 = [[1, 2], [3, 4]]\n",
    "list2 = list1.copy()\n",
    "list2[0][0] = 10\n",
    "print(list1)\n",
    "print(list2)\n",
    "print(id(list1), id(list2))\n",
    "\n",
    "# Deep Copy\n",
    "print(\"deep copy\")\n",
    "list1 = [[1, 2], [3, 4]]\n",
    "list2 = copy.deepcopy(list1) #need copy library\n",
    "list2[0][0] = 10\n",
    "print(list1)\n",
    "print(list2)\n",
    "print(id(list1), id(list2))"
   ]
  },
  {
   "cell_type": "markdown",
   "id": "6b3a6ddc-3ccd-4e13-a023-3c8c5240dedd",
   "metadata": {},
   "source": [
    "**Dicts**"
   ]
  },
  {
   "cell_type": "code",
   "execution_count": 21,
   "id": "0d821150-f201-4546-92e8-335793088d90",
   "metadata": {},
   "outputs": [
    {
     "name": "stdout",
     "output_type": "stream",
     "text": [
      "alias\n",
      "{'a': 10, 'b': 2}\n",
      "{'a': 10, 'b': 2}\n",
      "2864910050368 2864910050368\n",
      "shallow copy\n",
      "{'a': 1, 'b': 2}\n",
      "{'a': 10, 'b': 2}\n",
      "2864938297024 2864938296768\n",
      "deep copy\n",
      "{'a': {'x': 1}, 'b': 2}\n",
      "{'a': {'x': 10}, 'b': 2}\n",
      "2864910221248 2864910218304\n"
     ]
    }
   ],
   "source": [
    "#### Dicts\n",
    "import copy\n",
    "\n",
    "# Alias\n",
    "print(\"alias\")\n",
    "dict1 = {'a': 1, 'b': 2}\n",
    "dict2 = dict1\n",
    "dict2['a'] = 10\n",
    "print(dict1)\n",
    "print(dict2)\n",
    "print(id(dict1), id(dict2))\n",
    "\n",
    "# Shallow Copy\n",
    "print(\"shallow copy\")\n",
    "dict1 = {'a': 1, 'b': 2}\n",
    "dict2 = dict1.copy()\n",
    "dict2['a'] = 10\n",
    "print(dict1)\n",
    "print(dict2)\n",
    "print(id(dict1), id(dict2))\n",
    "\n",
    "# Deep Copy: # needed if your values are mutable\n",
    "print(\"deep copy\")\n",
    "dict1 = {'a': {'x': 1}, 'b': 2}\n",
    "dict2 = copy.deepcopy(dict1)\n",
    "dict2['a']['x'] = 10\n",
    "print(dict1)\n",
    "print(dict2)\n",
    "print(id(dict1), id(dict2))"
   ]
  }
 ],
 "metadata": {
  "kernelspec": {
   "display_name": "Python 3 (ipykernel)",
   "language": "python",
   "name": "python3"
  },
  "language_info": {
   "codemirror_mode": {
    "name": "ipython",
    "version": 3
   },
   "file_extension": ".py",
   "mimetype": "text/x-python",
   "name": "python",
   "nbconvert_exporter": "python",
   "pygments_lexer": "ipython3",
   "version": "3.10.9"
  }
 },
 "nbformat": 4,
 "nbformat_minor": 5
}
