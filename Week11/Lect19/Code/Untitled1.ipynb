{
 "cells": [
  {
   "cell_type": "code",
   "execution_count": 1,
   "metadata": {},
   "outputs": [],
   "source": [
    "import string\n"
   ]
  },
  {
   "cell_type": "code",
   "execution_count": 5,
   "metadata": {},
   "outputs": [
    {
     "data": {
      "text/plain": [
       "'!\"#$%&\\'()*+,-./:;<=>?@[\\\\]^_`{|}~'"
      ]
     },
     "execution_count": 5,
     "metadata": {},
     "output_type": "execute_result"
    }
   ],
   "source": [
    "string.punctuation"
   ]
  },
  {
   "cell_type": "code",
   "execution_count": 8,
   "metadata": {},
   "outputs": [
    {
     "data": {
      "text/plain": [
       "False"
      ]
     },
     "execution_count": 8,
     "metadata": {},
     "output_type": "execute_result"
    }
   ],
   "source": [
    "'+1'.isalnum()"
   ]
  },
  {
   "cell_type": "code",
   "execution_count": 10,
   "metadata": {},
   "outputs": [
    {
     "data": {
      "text/plain": [
       "'he o!'"
      ]
     },
     "execution_count": 10,
     "metadata": {},
     "output_type": "execute_result"
    }
   ],
   "source": [
    "\"hello!\".replace('ll', ' ')"
   ]
  },
  {
   "cell_type": "code",
   "execution_count": 13,
   "metadata": {},
   "outputs": [
    {
     "data": {
      "text/plain": [
       "'You ve'"
      ]
     },
     "execution_count": 13,
     "metadata": {},
     "output_type": "execute_result"
    }
   ],
   "source": [
    "\"You've\".replace(\"'\", ' ')"
   ]
  },
  {
   "cell_type": "code",
   "execution_count": 15,
   "metadata": {},
   "outputs": [],
   "source": [
    "s = \"This is a string\""
   ]
  },
  {
   "cell_type": "code",
   "execution_count": 17,
   "metadata": {},
   "outputs": [],
   "source": [
    "s = s.replace('is', 'os')"
   ]
  },
  {
   "cell_type": "code",
   "execution_count": 19,
   "metadata": {},
   "outputs": [],
   "source": [
    "s = ['we', 'are', 'the', 'world', 'Maybe', 'not', 'really', 'True']"
   ]
  },
  {
   "cell_type": "code",
   "execution_count": 24,
   "metadata": {},
   "outputs": [],
   "source": [
    "s = ['world', 'maybe', 'really', 'true', 'maybe']"
   ]
  },
  {
   "cell_type": "code",
   "execution_count": 25,
   "metadata": {},
   "outputs": [],
   "source": [
    "d = {}"
   ]
  },
  {
   "cell_type": "code",
   "execution_count": 26,
   "metadata": {},
   "outputs": [],
   "source": [
    "for k in s:\n",
    "    if k not in d:\n",
    "        d[k] = s.count(k) / len(s)\n"
   ]
  },
  {
   "cell_type": "code",
   "execution_count": 27,
   "metadata": {},
   "outputs": [
    {
     "data": {
      "text/plain": [
       "{'world': 0.2, 'maybe': 0.4, 'really': 0.2, 'true': 0.2}"
      ]
     },
     "execution_count": 27,
     "metadata": {},
     "output_type": "execute_result"
    }
   ],
   "source": [
    "d"
   ]
  },
  {
   "cell_type": "code",
   "execution_count": 29,
   "metadata": {},
   "outputs": [],
   "source": [
    "d = {}"
   ]
  },
  {
   "cell_type": "code",
   "execution_count": 30,
   "metadata": {},
   "outputs": [],
   "source": [
    "for k in s:\n",
    "    if k not in d:\n",
    "        d[k] = 1\n",
    "    else:\n",
    "        d[k] += 1 \n"
   ]
  },
  {
   "cell_type": "code",
   "execution_count": 31,
   "metadata": {},
   "outputs": [
    {
     "data": {
      "text/plain": [
       "{'world': 1, 'maybe': 2, 'really': 1, 'true': 1}"
      ]
     },
     "execution_count": 31,
     "metadata": {},
     "output_type": "execute_result"
    }
   ],
   "source": [
    "d"
   ]
  },
  {
   "cell_type": "code",
   "execution_count": null,
   "metadata": {},
   "outputs": [],
   "source": [
    "size = len(s)\n",
    "for k in d:\n",
    "    d[k] /= size"
   ]
  },
  {
   "cell_type": "code",
   "execution_count": 32,
   "metadata": {},
   "outputs": [],
   "source": [
    "s = \"AAA BBB CCC\""
   ]
  },
  {
   "cell_type": "code",
   "execution_count": 33,
   "metadata": {},
   "outputs": [
    {
     "name": "stdout",
     "output_type": "stream",
     "text": [
      "AAA BBB CCC\n"
     ]
    }
   ],
   "source": [
    "print(s)"
   ]
  },
  {
   "cell_type": "code",
   "execution_count": 36,
   "metadata": {},
   "outputs": [],
   "source": [
    "s = \"AAA\\n BBB\\n CCC\""
   ]
  },
  {
   "cell_type": "code",
   "execution_count": 37,
   "metadata": {},
   "outputs": [
    {
     "name": "stdout",
     "output_type": "stream",
     "text": [
      "AAA\n",
      " BBB\n",
      " CCC\n"
     ]
    }
   ],
   "source": [
    "print(s)"
   ]
  },
  {
   "cell_type": "code",
   "execution_count": 133,
   "metadata": {},
   "outputs": [],
   "source": [
    "import random\n",
    "\n",
    "import math\n",
    "\n",
    "age_range = [18, 90]\n",
    "age_intervals = 6\n",
    "one_age_interval = math.ceil( (age_range[1] - age_range[0] + 1) / age_intervals)\n",
    "\n",
    "# this generates lists (of length age_intervals) with random integer numbers \n",
    "counts_by_age = random.sample( range(1, 100), age_intervals)\n",
    "counts_by_belt =  random.sample( range(1, 50), age_intervals)\n",
    "\n",
    "labels = []\n",
    "\n",
    "start_age = age_range[0]\n",
    "\n",
    "for i in range(age_intervals):\n",
    "    end_age = start_age + one_age_interval -1\n",
    "    labels.append( str(start_age) + '-' + str(end_age) ) #str( age_range[0] + (i * age_interval) ))\n",
    "    start_age = end_age + 1"
   ]
  },
  {
   "cell_type": "code",
   "execution_count": 134,
   "metadata": {},
   "outputs": [
    {
     "data": {
      "text/plain": [
       "['18-30', '31-43', '44-56', '57-69', '70-82', '83-95']"
      ]
     },
     "execution_count": 134,
     "metadata": {},
     "output_type": "execute_result"
    }
   ],
   "source": [
    "labels"
   ]
  },
  {
   "cell_type": "code",
   "execution_count": 135,
   "metadata": {},
   "outputs": [],
   "source": [
    "import matplotlib.pyplot as plt  # import the module\n",
    "\n",
    "import matplotlib as mpl\n",
    "mpl.rcParams['figure.dpi']= 130  # set the resolution to x dpi"
   ]
  },
  {
   "cell_type": "code",
   "execution_count": 142,
   "metadata": {},
   "outputs": [
    {
     "data": {
      "image/png": "[encoded data removed]",
      "text/plain": [
       "<Figure size 780x520 with 1 Axes>"
      ]
     },
     "metadata": {
      "needs_background": "light"
     },
     "output_type": "display_data"
    }
   ],
   "source": [
    "plt.title(\"Bar Chart\")\n",
    "\n",
    "\n",
    "plt.bar(range(0, age_intervals),        \n",
    "        counts_by_age,\n",
    "        color='b',\n",
    "        align='edge',\n",
    "        width = 0.5,\n",
    "        tick_label = labels)\n",
    "\n",
    "plt.bar(range(0, age_intervals),        \n",
    "        counts_by_belt,\n",
    "        align='center',\n",
    "        width = 0.3,\n",
    "        color='r')\n",
    "\n",
    "plt.show()"
   ]
  },
  {
   "cell_type": "code",
   "execution_count": 144,
   "metadata": {},
   "outputs": [
    {
     "ename": "TypeError",
     "evalue": "pie() got an unexpected keyword argument 'normalize'",
     "output_type": "error",
     "traceback": [
      "\u001b[0;31m---------------------------------------------------------------------------\u001b[0m",
      "\u001b[0;31mTypeError\u001b[0m                                 Traceback (most recent call last)",
      "\u001b[0;32m<ipython-input-144-bf8111ad2a34>\u001b[0m in \u001b[0;36m<module>\u001b[0;34m\u001b[0m\n\u001b[1;32m      2\u001b[0m         \u001b[0mlabels\u001b[0m \u001b[0;34m=\u001b[0m \u001b[0;34m[\u001b[0m\u001b[0;34m'Male'\u001b[0m\u001b[0;34m,\u001b[0m \u001b[0;34m'Female'\u001b[0m\u001b[0;34m]\u001b[0m\u001b[0;34m,\u001b[0m \u001b[0mshadow\u001b[0m\u001b[0;34m=\u001b[0m\u001b[0;32mTrue\u001b[0m\u001b[0;34m,\u001b[0m \u001b[0mexplode\u001b[0m \u001b[0;34m=\u001b[0m \u001b[0;34m(\u001b[0m\u001b[0;36m0\u001b[0m\u001b[0;34m,\u001b[0m \u001b[0;36m0.1\u001b[0m\u001b[0;34m)\u001b[0m\u001b[0;34m,\u001b[0m\u001b[0;34m\u001b[0m\u001b[0;34m\u001b[0m\u001b[0m\n\u001b[1;32m      3\u001b[0m         \u001b[0mautopct\u001b[0m\u001b[0;34m=\u001b[0m\u001b[0;34m\"%.1f%%\"\u001b[0m\u001b[0;34m,\u001b[0m\u001b[0;34m\u001b[0m\u001b[0;34m\u001b[0m\u001b[0m\n\u001b[0;32m----> 4\u001b[0;31m         normalize=True)\n\u001b[0m\u001b[1;32m      5\u001b[0m \u001b[0;34m\u001b[0m\u001b[0m\n\u001b[1;32m      6\u001b[0m \u001b[0mplt\u001b[0m\u001b[0;34m.\u001b[0m\u001b[0mshow\u001b[0m\u001b[0;34m(\u001b[0m\u001b[0;34m)\u001b[0m\u001b[0;34m\u001b[0m\u001b[0;34m\u001b[0m\u001b[0m\n",
      "\u001b[0;31mTypeError\u001b[0m: pie() got an unexpected keyword argument 'normalize'"
     ]
    }
   ],
   "source": [
    "plt.pie([80, 120], \n",
    "        labels = ['Male', 'Female'], shadow=True, explode = (0, 0.1),\n",
    "        autopct=\"%.1f%%\",\n",
    "        normalize=True)\n",
    "\n",
    "plt.show()"
   ]
  },
  {
   "cell_type": "code",
   "execution_count": 145,
   "metadata": {},
   "outputs": [
    {
     "name": "stdout",
     "output_type": "stream",
     "text": [
      "Help on function pie in module matplotlib.pyplot:\n",
      "\n",
      "pie(x, explode=None, labels=None, colors=None, autopct=None, pctdistance=0.6, shadow=False, labeldistance=1.1, startangle=None, radius=None, counterclock=True, wedgeprops=None, textprops=None, center=(0, 0), frame=False, rotatelabels=False, *, data=None)\n",
      "    Plot a pie chart.\n",
      "    \n",
      "    Make a pie chart of array *x*.  The fractional area of each wedge is\n",
      "    given by ``x/sum(x)``.  If ``sum(x) < 1``, then the values of *x* give\n",
      "    the fractional area directly and the array will not be normalized. The\n",
      "    resulting pie will have an empty wedge of size ``1 - sum(x)``.\n",
      "    \n",
      "    The wedges are plotted counterclockwise, by default starting from the\n",
      "    x-axis.\n",
      "    \n",
      "    Parameters\n",
      "    ----------\n",
      "    x : array-like\n",
      "        The wedge sizes.\n",
      "    \n",
      "    explode : array-like, optional, default: None\n",
      "        If not *None*, is a ``len(x)`` array which specifies the fraction\n",
      "        of the radius with which to offset each wedge.\n",
      "    \n",
      "    labels : list, optional, default: None\n",
      "        A sequence of strings providing the labels for each wedge\n",
      "    \n",
      "    colors : array-like, optional, default: None\n",
      "        A sequence of matplotlib color args through which the pie chart\n",
      "        will cycle.  If *None*, will use the colors in the currently\n",
      "        active cycle.\n",
      "    \n",
      "    autopct : None (default), string, or function, optional\n",
      "        If not *None*, is a string or function used to label the wedges\n",
      "        with their numeric value.  The label will be placed inside the\n",
      "        wedge.  If it is a format string, the label will be ``fmt%pct``.\n",
      "        If it is a function, it will be called.\n",
      "    \n",
      "    pctdistance : float, optional, default: 0.6\n",
      "        The ratio between the center of each pie slice and the start of\n",
      "        the text generated by *autopct*.  Ignored if *autopct* is *None*.\n",
      "    \n",
      "    shadow : bool, optional, default: False\n",
      "        Draw a shadow beneath the pie.\n",
      "    \n",
      "    labeldistance : float or None, optional, default: 1.1\n",
      "        The radial distance at which the pie labels are drawn.\n",
      "        If set to ``None``, label are not drawn, but are stored for use in\n",
      "        ``legend()``\n",
      "    \n",
      "    startangle : float, optional, default: None\n",
      "        If not *None*, rotates the start of the pie chart by *angle*\n",
      "        degrees counterclockwise from the x-axis.\n",
      "    \n",
      "    radius : float, optional, default: None\n",
      "        The radius of the pie, if *radius* is *None* it will be set to 1.\n",
      "    \n",
      "    counterclock : bool, optional, default: True\n",
      "        Specify fractions direction, clockwise or counterclockwise.\n",
      "    \n",
      "    wedgeprops : dict, optional, default: None\n",
      "        Dict of arguments passed to the wedge objects making the pie.\n",
      "        For example, you can pass in ``wedgeprops = {'linewidth': 3}``\n",
      "        to set the width of the wedge border lines equal to 3.\n",
      "        For more details, look at the doc/arguments of the wedge object.\n",
      "        By default ``clip_on=False``.\n",
      "    \n",
      "    textprops : dict, optional, default: None\n",
      "        Dict of arguments to pass to the text objects.\n",
      "    \n",
      "    center :  list of float, optional, default: (0, 0)\n",
      "        Center position of the chart. Takes value (0, 0) or is a sequence\n",
      "        of 2 scalars.\n",
      "    \n",
      "    frame : bool, optional, default: False\n",
      "        Plot axes frame with the chart if true.\n",
      "    \n",
      "    rotatelabels : bool, optional, default: False\n",
      "        Rotate each label to the angle of the corresponding slice if true.\n",
      "    \n",
      "    Returns\n",
      "    -------\n",
      "    patches : list\n",
      "        A sequence of :class:`matplotlib.patches.Wedge` instances\n",
      "    \n",
      "    texts : list\n",
      "        A list of the label :class:`matplotlib.text.Text` instances.\n",
      "    \n",
      "    autotexts : list\n",
      "        A list of :class:`~matplotlib.text.Text` instances for the numeric\n",
      "        labels. This will only be returned if the parameter *autopct* is\n",
      "        not *None*.\n",
      "    \n",
      "    Notes\n",
      "    -----\n",
      "    The pie chart will probably look best if the figure and axes are\n",
      "    square, or the Axes aspect is equal.\n",
      "    This method sets the aspect ratio of the axis to \"equal\".\n",
      "    The axes aspect ratio can be controlled with `Axes.set_aspect`.\n",
      "    \n",
      "    .. note::\n",
      "        In addition to the above described arguments, this function can take a\n",
      "        **data** keyword argument. If such a **data** argument is given, the\n",
      "        following arguments are replaced by **data[<arg>]**:\n",
      "    \n",
      "        * All arguments with the following names: 'colors', 'explode', 'labels', 'x'.\n",
      "    \n",
      "        Objects passed as **data** must support item access (``data[<arg>]``) and\n",
      "        membership test (``<arg> in data``).\n",
      "\n"
     ]
    }
   ],
   "source": [
    "help(plt.pie)"
   ]
  },
  {
   "cell_type": "code",
   "execution_count": 164,
   "metadata": {},
   "outputs": [],
   "source": [
    "age_ranges = [(20, 'Emilia'), (20, 'Zoe'), (21, 'Valentina'), \n",
    "              (22, 'Catalina'), (22, 'Lucia'), (22, 'Sofia'), (23, 'Martina'),\n",
    "              (24, 'Elena')]"
   ]
  },
  {
   "cell_type": "code",
   "execution_count": 165,
   "metadata": {},
   "outputs": [],
   "source": [
    "min_age = age_ranges[0][0]\n",
    "max_age = age_ranges[-1][0]"
   ]
  },
  {
   "cell_type": "code",
   "execution_count": 166,
   "metadata": {},
   "outputs": [
    {
     "data": {
      "text/plain": [
       "(20, 24)"
      ]
     },
     "execution_count": 166,
     "metadata": {},
     "output_type": "execute_result"
    }
   ],
   "source": [
    "min_age, max_age"
   ]
  },
  {
   "cell_type": "code",
   "execution_count": 167,
   "metadata": {},
   "outputs": [],
   "source": [
    "import math \n",
    "\n",
    "age_interval = math.ceil( (max_age + 1 - min_age) / buckets)"
   ]
  },
  {
   "cell_type": "code",
   "execution_count": 169,
   "metadata": {},
   "outputs": [
    {
     "data": {
      "text/plain": [
       "2"
      ]
     },
     "execution_count": 169,
     "metadata": {},
     "output_type": "execute_result"
    }
   ],
   "source": [
    "age_interval"
   ]
  },
  {
   "cell_type": "code",
   "execution_count": 179,
   "metadata": {},
   "outputs": [
    {
     "name": "stdout",
     "output_type": "stream",
     "text": [
      "0 1\n",
      "1 4\n",
      "2 5\n",
      "3 8.0\n",
      "4 6\n"
     ]
    }
   ],
   "source": [
    "L = [1,4,5,8.0,6]\n",
    "\n",
    "for k,l in enumerate(L):\n",
    "    print(k,l)"
   ]
  },
  {
   "cell_type": "code",
   "execution_count": 177,
   "metadata": {},
   "outputs": [
    {
     "name": "stdout",
     "output_type": "stream",
     "text": [
      "20 21\n",
      "22 23\n",
      "24 25\n"
     ]
    }
   ],
   "source": [
    "labels = []\n",
    "d = {}\n",
    "buckets = 3\n",
    "index = 0\n",
    "for i in range(buckets):\n",
    "    begin = min_age + i * age_interval\n",
    "    end   = begin + age_interval - 1\n",
    "    labels.append( str(begin) + '-' + str(end))\n",
    "    \n",
    "    names = []\n",
    "    for k,p in enumerate(age_ranges[index:]):\n",
    "        if p[0] > end:\n",
    "            index += k \n",
    "            break\n",
    "        if p[0] >= begin: # and p[0] <= end:\n",
    "            names.append(p[1])\n",
    "        \n",
    "    d[begin] = names[:]\n",
    "    \n",
    "    print(begin, end)"
   ]
  },
  {
   "cell_type": "code",
   "execution_count": 178,
   "metadata": {},
   "outputs": [
    {
     "data": {
      "text/plain": [
       "{20: ['Emilia', 'Zoe', 'Valentina'],\n",
       " 22: ['Catalina', 'Lucia', 'Sofia', 'Martina'],\n",
       " 24: ['Elena']}"
      ]
     },
     "execution_count": 178,
     "metadata": {},
     "output_type": "execute_result"
    }
   ],
   "source": [
    "d"
   ]
  },
  {
   "cell_type": "code",
   "execution_count": 176,
   "metadata": {},
   "outputs": [
    {
     "data": {
      "text/plain": [
       "['20-21', '22-23', '24-25']"
      ]
     },
     "execution_count": 176,
     "metadata": {},
     "output_type": "execute_result"
    }
   ],
   "source": [
    "labels"
   ]
  },
  {
   "cell_type": "code",
   "execution_count": null,
   "metadata": {},
   "outputs": [],
   "source": [
    "begin = 20\n",
    "end = 21"
   ]
  },
  {
   "cell_type": "code",
   "execution_count": null,
   "metadata": {},
   "outputs": [],
   "source": [
    "age_ranges = [(20, 'Emilia'), (20, 'Zoe'), (21, 'Valentina'), \n",
    "              (22, 'Catalina'), (22, 'Lucia'), (22, 'Sofia'), (23, 'Martina'),\n",
    "              (24, 'Elena')]"
   ]
  },
  {
   "cell_type": "code",
   "execution_count": null,
   "metadata": {},
   "outputs": [],
   "source": [
    "20: [’Emilia’, ’Zoe’, ’Valentina’],\n",
    "22: [’Catalina’, ’Lucia’, ’Martina’, ’Sofia’], 24: [’Elena’, ’Maria’, ’Paula’]\n",
    "}"
   ]
  },
  {
   "cell_type": "code",
   "execution_count": 189,
   "metadata": {},
   "outputs": [
    {
     "data": {
      "text/plain": [
       "20000"
      ]
     },
     "execution_count": 189,
     "metadata": {},
     "output_type": "execute_result"
    }
   ],
   "source": [
    "25 * 800"
   ]
  },
  {
   "cell_type": "code",
   "execution_count": 199,
   "metadata": {},
   "outputs": [
    {
     "name": "stdout",
     "output_type": "stream",
     "text": [
      "labels\n",
      " poodle\n",
      " beagle\n",
      " labrador\n",
      " setter\n",
      " bulldog\n",
      " bulldog\n"
     ]
    }
   ],
   "source": [
    "f = open('dogs.csv')\n",
    "\n",
    "#x = f.readlines()\n",
    "\n",
    "for i in f.readlines():\n",
    "    v = list(i.strip().split(','))\n",
    "    print(v[-1])"
   ]
  },
  {
   "cell_type": "code",
   "execution_count": null,
   "metadata": {},
   "outputs": [],
   "source": [
    "v[-1]"
   ]
  },
  {
   "cell_type": "code",
   "execution_count": 200,
   "metadata": {},
   "outputs": [
    {
     "name": "stdout",
     "output_type": "stream",
     "text": [
      "s\n"
     ]
    }
   ],
   "source": [
    "if 1 == 2 or 3 or 4:\n",
    "    print('s')"
   ]
  },
  {
   "cell_type": "code",
   "execution_count": 210,
   "metadata": {},
   "outputs": [
    {
     "data": {
      "image/png": "[encoded data removed]",
      "text/plain": [
       "<Figure size 1040x1040 with 1 Axes>"
      ]
     },
     "metadata": {},
     "output_type": "display_data"
    }
   ],
   "source": [
    "#labels = list(FrontRearDeaths.keys())\n",
    "values = [29, 30]\n",
    "\n",
    "plt.figure( figsize =(8,8))\n",
    "plt.title(\"Does a front end collision prove more fatal than a rear end collision?\",fontsize=15,ha='center')\n",
    "plt.pie(values,labels=[\"Front Deaths\",\"Rear Deaths\"], shadow=True, explode=(0,0.1),autopct=\"%.1f%%\",textprops={'fontsize': 12} )\n",
    "\n",
    "plt.show() \n",
    "\n"
   ]
  },
  {
   "cell_type": "code",
   "execution_count": 307,
   "metadata": {},
   "outputs": [
    {
     "name": "stdout",
     "output_type": "stream",
     "text": [
      "Help on function pie in module matplotlib.pyplot:\n",
      "\n",
      "pie(x, explode=None, labels=None, colors=None, autopct=None, pctdistance=0.6, shadow=False, labeldistance=1.1, startangle=None, radius=None, counterclock=True, wedgeprops=None, textprops=None, center=(0, 0), frame=False, rotatelabels=False, *, data=None)\n",
      "    Plot a pie chart.\n",
      "    \n",
      "    Make a pie chart of array *x*.  The fractional area of each wedge is\n",
      "    given by ``x/sum(x)``.  If ``sum(x) < 1``, then the values of *x* give\n",
      "    the fractional area directly and the array will not be normalized. The\n",
      "    resulting pie will have an empty wedge of size ``1 - sum(x)``.\n",
      "    \n",
      "    The wedges are plotted counterclockwise, by default starting from the\n",
      "    x-axis.\n",
      "    \n",
      "    Parameters\n",
      "    ----------\n",
      "    x : array-like\n",
      "        The wedge sizes.\n",
      "    \n",
      "    explode : array-like, optional, default: None\n",
      "        If not *None*, is a ``len(x)`` array which specifies the fraction\n",
      "        of the radius with which to offset each wedge.\n",
      "    \n",
      "    labels : list, optional, default: None\n",
      "        A sequence of strings providing the labels for each wedge\n",
      "    \n",
      "    colors : array-like, optional, default: None\n",
      "        A sequence of matplotlib color args through which the pie chart\n",
      "        will cycle.  If *None*, will use the colors in the currently\n",
      "        active cycle.\n",
      "    \n",
      "    autopct : None (default), string, or function, optional\n",
      "        If not *None*, is a string or function used to label the wedges\n",
      "        with their numeric value.  The label will be placed inside the\n",
      "        wedge.  If it is a format string, the label will be ``fmt%pct``.\n",
      "        If it is a function, it will be called.\n",
      "    \n",
      "    pctdistance : float, optional, default: 0.6\n",
      "        The ratio between the center of each pie slice and the start of\n",
      "        the text generated by *autopct*.  Ignored if *autopct* is *None*.\n",
      "    \n",
      "    shadow : bool, optional, default: False\n",
      "        Draw a shadow beneath the pie.\n",
      "    \n",
      "    labeldistance : float or None, optional, default: 1.1\n",
      "        The radial distance at which the pie labels are drawn.\n",
      "        If set to ``None``, label are not drawn, but are stored for use in\n",
      "        ``legend()``\n",
      "    \n",
      "    startangle : float, optional, default: None\n",
      "        If not *None*, rotates the start of the pie chart by *angle*\n",
      "        degrees counterclockwise from the x-axis.\n",
      "    \n",
      "    radius : float, optional, default: None\n",
      "        The radius of the pie, if *radius* is *None* it will be set to 1.\n",
      "    \n",
      "    counterclock : bool, optional, default: True\n",
      "        Specify fractions direction, clockwise or counterclockwise.\n",
      "    \n",
      "    wedgeprops : dict, optional, default: None\n",
      "        Dict of arguments passed to the wedge objects making the pie.\n",
      "        For example, you can pass in ``wedgeprops = {'linewidth': 3}``\n",
      "        to set the width of the wedge border lines equal to 3.\n",
      "        For more details, look at the doc/arguments of the wedge object.\n",
      "        By default ``clip_on=False``.\n",
      "    \n",
      "    textprops : dict, optional, default: None\n",
      "        Dict of arguments to pass to the text objects.\n",
      "    \n",
      "    center :  list of float, optional, default: (0, 0)\n",
      "        Center position of the chart. Takes value (0, 0) or is a sequence\n",
      "        of 2 scalars.\n",
      "    \n",
      "    frame : bool, optional, default: False\n",
      "        Plot axes frame with the chart if true.\n",
      "    \n",
      "    rotatelabels : bool, optional, default: False\n",
      "        Rotate each label to the angle of the corresponding slice if true.\n",
      "    \n",
      "    Returns\n",
      "    -------\n",
      "    patches : list\n",
      "        A sequence of :class:`matplotlib.patches.Wedge` instances\n",
      "    \n",
      "    texts : list\n",
      "        A list of the label :class:`matplotlib.text.Text` instances.\n",
      "    \n",
      "    autotexts : list\n",
      "        A list of :class:`~matplotlib.text.Text` instances for the numeric\n",
      "        labels. This will only be returned if the parameter *autopct* is\n",
      "        not *None*.\n",
      "    \n",
      "    Notes\n",
      "    -----\n",
      "    The pie chart will probably look best if the figure and axes are\n",
      "    square, or the Axes aspect is equal.\n",
      "    This method sets the aspect ratio of the axis to \"equal\".\n",
      "    The axes aspect ratio can be controlled with `Axes.set_aspect`.\n",
      "    \n",
      "    .. note::\n",
      "        In addition to the above described arguments, this function can take a\n",
      "        **data** keyword argument. If such a **data** argument is given, the\n",
      "        following arguments are replaced by **data[<arg>]**:\n",
      "    \n",
      "        * All arguments with the following names: 'colors', 'explode', 'labels', 'x'.\n",
      "    \n",
      "        Objects passed as **data** must support item access (``data[<arg>]``) and\n",
      "        membership test (``<arg> in data``).\n",
      "\n"
     ]
    }
   ],
   "source": [
    "help(plt.pie)"
   ]
  },
  {
   "cell_type": "code",
   "execution_count": 212,
   "metadata": {},
   "outputs": [
    {
     "ename": "TypeError",
     "evalue": "write() argument must be str, not dict",
     "output_type": "error",
     "traceback": [
      "\u001b[0;31m---------------------------------------------------------------------------\u001b[0m",
      "\u001b[0;31mTypeError\u001b[0m                                 Traceback (most recent call last)",
      "\u001b[0;32m<ipython-input-212-485c47b925aa>\u001b[0m in \u001b[0;36m<module>\u001b[0;34m\u001b[0m\n\u001b[1;32m      1\u001b[0m \u001b[0mf\u001b[0m \u001b[0;34m=\u001b[0m \u001b[0mopen\u001b[0m\u001b[0;34m(\u001b[0m\u001b[0;34m'/tmp/test.txt'\u001b[0m\u001b[0;34m,\u001b[0m \u001b[0;34m'w'\u001b[0m\u001b[0;34m)\u001b[0m\u001b[0;34m\u001b[0m\u001b[0;34m\u001b[0m\u001b[0m\n\u001b[1;32m      2\u001b[0m \u001b[0md\u001b[0m \u001b[0;34m=\u001b[0m \u001b[0;34m{\u001b[0m\u001b[0;36m1\u001b[0m\u001b[0;34m:\u001b[0m\u001b[0;34m'a'\u001b[0m\u001b[0;34m,\u001b[0m \u001b[0;36m2\u001b[0m\u001b[0;34m:\u001b[0m\u001b[0;34m'b'\u001b[0m\u001b[0;34m,\u001b[0m \u001b[0;36m3\u001b[0m\u001b[0;34m:\u001b[0m\u001b[0;34m'c'\u001b[0m\u001b[0;34m}\u001b[0m\u001b[0;34m\u001b[0m\u001b[0;34m\u001b[0m\u001b[0m\n\u001b[0;32m----> 3\u001b[0;31m \u001b[0mf\u001b[0m\u001b[0;34m.\u001b[0m\u001b[0mwrite\u001b[0m\u001b[0;34m(\u001b[0m\u001b[0md\u001b[0m\u001b[0;34m)\u001b[0m\u001b[0;34m\u001b[0m\u001b[0;34m\u001b[0m\u001b[0m\n\u001b[0m",
      "\u001b[0;31mTypeError\u001b[0m: write() argument must be str, not dict"
     ]
    }
   ],
   "source": [
    "f = open('/tmp/test.txt', 'w')\n",
    "d = {1:'a', 2:'b', 3:'c'}\n",
    "f.write(d)"
   ]
  },
  {
   "cell_type": "code",
   "execution_count": 213,
   "metadata": {},
   "outputs": [
    {
     "data": {
      "text/plain": [
       "'aaa,bbb,cc'"
      ]
     },
     "execution_count": 213,
     "metadata": {},
     "output_type": "execute_result"
    }
   ],
   "source": [
    "x = ['aaa', 'bbb', 'cc']\n",
    "y = ','.join(x)\n",
    "y"
   ]
  },
  {
   "cell_type": "code",
   "execution_count": 215,
   "metadata": {},
   "outputs": [
    {
     "data": {
      "text/plain": [
       "['aaa,bbb,cc']"
      ]
     },
     "execution_count": 215,
     "metadata": {},
     "output_type": "execute_result"
    }
   ],
   "source": [
    "y.split()"
   ]
  },
  {
   "cell_type": "code",
   "execution_count": 216,
   "metadata": {},
   "outputs": [],
   "source": [
    "def fun():\n",
    "    x = 2\n",
    "    import csv\n",
    "    y = 3"
   ]
  },
  {
   "cell_type": "code",
   "execution_count": 220,
   "metadata": {},
   "outputs": [
    {
     "ename": "SyntaxError",
     "evalue": "invalid syntax (<ipython-input-220-e10ff8922e4f>, line 4)",
     "output_type": "error",
     "traceback": [
      "\u001b[0;36m  File \u001b[0;32m\"<ipython-input-220-e10ff8922e4f>\"\u001b[0;36m, line \u001b[0;32m4\u001b[0m\n\u001b[0;31m    print(i[0])import csv\u001b[0m\n\u001b[0m                    ^\u001b[0m\n\u001b[0;31mSyntaxError\u001b[0m\u001b[0;31m:\u001b[0m invalid syntax\n"
     ]
    }
   ],
   "source": [
    "d = {1:'a', 2:'b', 3:'c'}\n",
    "x = d.values()\n"
   ]
  },
  {
   "cell_type": "code",
   "execution_count": 323,
   "metadata": {},
   "outputs": [],
   "source": [
    "import csv\n",
    "with open('zoological_attributes.csv') as csvfile:\n",
    "    reader = csv.DictReader(csvfile,delimiter=\" \")\n",
    "    #print(list(reader))\n"
   ]
  },
  {
   "cell_type": "code",
   "execution_count": 324,
   "metadata": {},
   "outputs": [],
   "source": [
    "import csv\n",
    "f = open('zoological_attributes.csv')\n",
    "\n",
    "f_csv = csv.DictReader(f)\n"
   ]
  },
  {
   "cell_type": "code",
   "execution_count": 321,
   "metadata": {},
   "outputs": [
    {
     "data": {
      "text/plain": [
       "csv.DictReader"
      ]
     },
     "execution_count": 321,
     "metadata": {},
     "output_type": "execute_result"
    }
   ],
   "source": [
    "type(f_csv)"
   ]
  },
  {
   "cell_type": "code",
   "execution_count": 326,
   "metadata": {},
   "outputs": [],
   "source": [
    "x = list(f_csv)\n"
   ]
  },
  {
   "cell_type": "code",
   "execution_count": 1,
   "metadata": {},
   "outputs": [
    {
     "ename": "NameError",
     "evalue": "name 'x' is not defined",
     "output_type": "error",
     "traceback": [
      "\u001b[0;31m---------------------------------------------------------------------------\u001b[0m",
      "\u001b[0;31mNameError\u001b[0m                                 Traceback (most recent call last)",
      "\u001b[0;32m<ipython-input-1-044597ca6659>\u001b[0m in \u001b[0;36m<module>\u001b[0;34m\u001b[0m\n\u001b[0;32m----> 1\u001b[0;31m \u001b[0;32mfor\u001b[0m \u001b[0mi\u001b[0m \u001b[0;32min\u001b[0m \u001b[0mx\u001b[0m\u001b[0;34m:\u001b[0m\u001b[0;34m\u001b[0m\u001b[0;34m\u001b[0m\u001b[0m\n\u001b[0m\u001b[1;32m      2\u001b[0m     \u001b[0mprint\u001b[0m\u001b[0;34m(\u001b[0m\u001b[0mi\u001b[0m\u001b[0;34m[\u001b[0m\u001b[0;34m'hair'\u001b[0m\u001b[0;34m]\u001b[0m\u001b[0;34m)\u001b[0m\u001b[0;34m\u001b[0m\u001b[0;34m\u001b[0m\u001b[0m\n",
      "\u001b[0;31mNameError\u001b[0m: name 'x' is not defined"
     ]
    }
   ],
   "source": [
    "for i in x:\n",
    "    print(i['hair'])"
   ]
  },
  {
   "cell_type": "markdown",
   "metadata": {},
   "source": [
    "***\n",
    "\n",
    "***"
   ]
  },
  {
   "cell_type": "markdown",
   "metadata": {},
   "source": [
    "***\n",
    "# Confusing examples with general scenario: \n",
    "\n",
    "'coffee', 'groceries' in Q1, '.txt' in Q3\n"
   ]
  },
  {
   "cell_type": "code",
   "execution_count": null,
   "metadata": {},
   "outputs": [],
   "source": []
  },
  {
   "cell_type": "markdown",
   "metadata": {},
   "source": [
    "***\n",
    "\n",
    "# Names of variables\n",
    "\n",
    "y, x, l, a, i, j, k ...., dict, list, split ...."
   ]
  },
  {
   "cell_type": "markdown",
   "metadata": {},
   "source": [
    "***\n",
    "\n",
    "# Use of course-alien functions\n",
    "\n",
    "pandas (!), set, open() as ..."
   ]
  },
  {
   "cell_type": "code",
   "execution_count": null,
   "metadata": {},
   "outputs": [],
   "source": [
    "with open('file_name') as something:\n",
    "    \n",
    "f = open('file_name')"
   ]
  },
  {
   "cell_type": "markdown",
   "metadata": {},
   "source": [
    "***\n",
    "\n",
    "# Return and keep going in a function \n",
    "\n",
    "How to place return and the role of return in functions"
   ]
  },
  {
   "cell_type": "code",
   "execution_count": null,
   "metadata": {},
   "outputs": [],
   "source": [
    "def test():\n",
    "    x = 1\n",
    "    if x > 1:\n",
    "        return 0\n",
    "    x += 5\n",
    "    return x\n",
    "\n",
    "y = test()\n",
    "f = open('file_to_write.txt', 'w')\n",
    "f.write('Hello ' + str(y))"
   ]
  },
  {
   "cell_type": "markdown",
   "metadata": {},
   "source": [
    "***\n",
    "\n",
    "# File names hard-coded vs. file names as variables\n",
    "\n",
    "f = open('name.txt') vs. f = open(name)\n"
   ]
  },
  {
   "cell_type": "code",
   "execution_count": null,
   "metadata": {},
   "outputs": [],
   "source": [
    "def plotDailyTransactions(bank_statement):\n",
    "    #f = open('bank_statement.csv')\n",
    "    f = open(bank_statement)"
   ]
  },
  {
   "cell_type": "markdown",
   "metadata": {},
   "source": [
    "***\n",
    "\n",
    "# Indenting\n",
    "\n",
    "Pay attention! wrong indent == errror!"
   ]
  },
  {
   "cell_type": "code",
   "execution_count": null,
   "metadata": {},
   "outputs": [],
   "source": []
  },
  {
   "cell_type": "markdown",
   "metadata": {},
   "source": [
    "***\n",
    "\n",
    "# Read problem specs\n",
    "\n",
    "input is a file (not a dictionary, Q3), output neeeds to be sorted (dictoinaries aren't sorted), plot lines must be blue\n"
   ]
  },
  {
   "cell_type": "markdown",
   "metadata": {},
   "source": [
    "***\n",
    "\n",
    "# Convoluted code: \n",
    "\n",
    "always search for a shorter path before jumping into your solution, explore!\n"
   ]
  },
  {
   "cell_type": "markdown",
   "metadata": {},
   "source": [
    "***\n",
    "\n",
    "# Useless statements \n",
    "\n",
    "import matplotlib, f.seek(0) ...\n"
   ]
  },
  {
   "cell_type": "code",
   "execution_count": null,
   "metadata": {},
   "outputs": [],
   "source": [
    "import matplotlib.pyplot as plt  # import the module\n",
    "\n",
    "import matplotlib as mpl\n",
    "mpl.rcParams['figure.dpi']= 130  # set the resolution to x dpi"
   ]
  },
  {
   "cell_type": "code",
   "execution_count": null,
   "metadata": {},
   "outputs": [],
   "source": [
    "f = open('filename')\n",
    "\n",
    "for r in f:\n",
    "    print(r)\n",
    "\n",
    "f.seek(0)"
   ]
  },
  {
   "cell_type": "markdown",
   "metadata": {},
   "source": [
    "# Difference between read(), readline() readlines(), csv.reader(f)\n"
   ]
  },
  {
   "cell_type": "code",
   "execution_count": null,
   "metadata": {},
   "outputs": [],
   "source": []
  },
  {
   "cell_type": "code",
   "execution_count": 278,
   "metadata": {},
   "outputs": [],
   "source": [
    "f = open('zoological_attributes.csv')\n",
    "\n",
    "#s = f.read()\n",
    "\n",
    "#f.seek(0)\n",
    "\n",
    "#records_string = f.readlines()\n",
    "#f.seek(0)\n",
    "\n",
    "#s = f.readline()\n",
    "#f.seek(0)\n",
    "\n",
    "\n",
    "#f_csv = csv.DictReader(f)\n"
   ]
  },
  {
   "cell_type": "code",
   "execution_count": 2,
   "metadata": {},
   "outputs": [
    {
     "ename": "NameError",
     "evalue": "name 'f' is not defined",
     "output_type": "error",
     "traceback": [
      "\u001b[0;31m---------------------------------------------------------------------------\u001b[0m",
      "\u001b[0;31mNameError\u001b[0m                                 Traceback (most recent call last)",
      "\u001b[0;32m<ipython-input-2-04afe1df6059>\u001b[0m in \u001b[0;36m<module>\u001b[0;34m\u001b[0m\n\u001b[0;32m----> 1\u001b[0;31m \u001b[0mf\u001b[0m\u001b[0;34m.\u001b[0m\u001b[0mreadline\u001b[0m\u001b[0;34m(\u001b[0m\u001b[0;34m)\u001b[0m\u001b[0;34m\u001b[0m\u001b[0;34m\u001b[0m\u001b[0m\n\u001b[0m\u001b[1;32m      2\u001b[0m \u001b[0;32mfor\u001b[0m \u001b[0mrecords\u001b[0m \u001b[0;32min\u001b[0m \u001b[0mf\u001b[0m\u001b[0;34m:\u001b[0m\u001b[0;34m\u001b[0m\u001b[0;34m\u001b[0m\u001b[0m\n\u001b[1;32m      3\u001b[0m     \u001b[0mprint\u001b[0m\u001b[0;34m(\u001b[0m\u001b[0;34m'Animal is:'\u001b[0m\u001b[0;34m,\u001b[0m \u001b[0mrecords\u001b[0m\u001b[0;34m.\u001b[0m\u001b[0msplit\u001b[0m\u001b[0;34m(\u001b[0m\u001b[0;34m','\u001b[0m\u001b[0;34m)\u001b[0m\u001b[0;34m[\u001b[0m\u001b[0;36m0\u001b[0m\u001b[0;34m]\u001b[0m\u001b[0;34m)\u001b[0m\u001b[0;34m\u001b[0m\u001b[0;34m\u001b[0m\u001b[0m\n\u001b[1;32m      4\u001b[0m     \u001b[0mprint\u001b[0m\u001b[0;34m(\u001b[0m\u001b[0;34m'Aiborn?'\u001b[0m\u001b[0;34m,\u001b[0m \u001b[0mrecords\u001b[0m\u001b[0;34m.\u001b[0m\u001b[0msplit\u001b[0m\u001b[0;34m(\u001b[0m\u001b[0;34m','\u001b[0m\u001b[0;34m)\u001b[0m\u001b[0;34m[\u001b[0m\u001b[0;36m5\u001b[0m\u001b[0;34m]\u001b[0m\u001b[0;34m)\u001b[0m\u001b[0;34m\u001b[0m\u001b[0;34m\u001b[0m\u001b[0m\n",
      "\u001b[0;31mNameError\u001b[0m: name 'f' is not defined"
     ]
    }
   ],
   "source": [
    "f.readline()\n",
    "for records in f:\n",
    "    print('Animal is:', records.split(',')[0])\n",
    "    print('Aiborn?', records.split(',')[5])"
   ]
  },
  {
   "cell_type": "code",
   "execution_count": 3,
   "metadata": {},
   "outputs": [
    {
     "name": "stdout",
     "output_type": "stream",
     "text": [
      "name,hair,feathers,eggs,milk,airborne,aquatic,predator,toothed,backbone,breathes,venomous,fins,legs,tail,domestic,catsize,type\n",
      "aardvark,1,0,0,1,0,0,1,1,1,1,0,0,4,0,0,1,1\n",
      "antelope,1,0,0,1,0,0,0,1,1,1,0,0,4,1,0,1,1\n",
      "bass,0,0,1,0,0,1,1,1,1,0,0,1,0,1,0,0,4\n",
      "bear,1,0,0,1,0,0,1,1,1,1,0,0,4,0,0,1,1\n",
      "boar,1,0,0,1,0,0,1,1,1,1,0,0,4,1,0,1,1\n",
      "buffalo,1,0,0,1,0,0,0,1,1,1,0,0,4,1,0,1,1\n",
      "calf,1,0,0,1,0,0,0,1,1,1,0,0,4,1,1,1,1\n",
      "carp,0,0,1,0,0,1,0,1,1,0,0,1,0,1,1,0,4\n",
      "catfish,0,0,1,0,0,1,1,1,1,0,0,1,0,1,0,0,4\n",
      "cavy,1,0,0,1,0,0,0,1,1,1,0,0,4,0,1,0,1\n",
      "cheetah,1,0,0,1,0,0,1,1,1,1,0,0,4,1,0,1,1\n",
      "chicken,0,1,1,0,1,0,0,0,1,1,0,0,2,1,1,0,2\n",
      "chub,0,0,1,0,0,1,1,1,1,0,0,1,0,1,0,0,4\n",
      "clam,0,0,1,0,0,0,1,0,0,0,0,0,0,0,0,0,7\n",
      "crab,0,0,1,0,0,1,1,0,0,0,0,0,4,0,0,0,7\n",
      "crayfish,0,0,1,0,0,1,1,0,0,0,0,0,6,0,0,0,7\n",
      "crow,0,1,1,0,1,0,1,0,1,1,0,0,2,1,0,0,2\n",
      "deer,1,0,0,1,0,0,0,1,1,1,0,0,4,1,0,1,1\n",
      "dogfish,0,0,1,0,0,1,1,1,1,0,0,1,0,1,0,1,4\n",
      "dolphin,0,0,0,1,0,1,1,1,1,1,0,1,0,1,0,1,1\n",
      "dove,0,1,1,0,1,0,0,0,1,1,0,0,2,1,1,0,2\n",
      "duck,0,1,1,0,1,1,0,0,1,1,0,0,2,1,0,0,2\n",
      "elephant,1,0,0,1,0,0,0,1,1,1,0,0,4,1,0,1,1\n",
      "flamingo,0,1,1,0,1,0,0,0,1,1,0,0,2,1,0,1,2\n",
      "flea,0,0,1,0,0,0,0,0,0,1,0,0,6,0,0,0,6\n",
      "frog,0,0,1,0,0,1,1,1,1,1,0,0,4,0,0,0,5\n",
      "frog,0,0,1,0,0,1,1,1,1,1,1,0,4,0,0,0,5\n",
      "fruitbat,1,0,0,1,1,0,0,1,1,1,0,0,2,1,0,0,1\n",
      "giraffe,1,0,0,1,0,0,0,1,1,1,0,0,4,1,0,1,1\n",
      "girl,1,0,0,1,0,0,1,1,1,1,0,0,2,0,1,1,1\n",
      "gnat,0,0,1,0,1,0,0,0,0,1,0,0,6,0,0,0,6\n",
      "goat,1,0,0,1,0,0,0,1,1,1,0,0,4,1,1,1,1\n",
      "gorilla,1,0,0,1,0,0,0,1,1,1,0,0,2,0,0,1,1\n",
      "gull,0,1,1,0,1,1,1,0,1,1,0,0,2,1,0,0,2\n",
      "haddock,0,0,1,0,0,1,0,1,1,0,0,1,0,1,0,0,4\n",
      "hamster,1,0,0,1,0,0,0,1,1,1,0,0,4,1,1,0,1\n",
      "hare,1,0,0,1,0,0,0,1,1,1,0,0,4,1,0,0,1\n",
      "hawk,0,1,1,0,1,0,1,0,1,1,0,0,2,1,0,0,2\n",
      "herring,0,0,1,0,0,1,1,1,1,0,0,1,0,1,0,0,4\n",
      "honeybee,1,0,1,0,1,0,0,0,0,1,1,0,6,0,1,0,6\n",
      "housefly,1,0,1,0,1,0,0,0,0,1,0,0,6,0,0,0,6\n",
      "kiwi,0,1,1,0,0,0,1,0,1,1,0,0,2,1,0,0,2\n",
      "ladybird,0,0,1,0,1,0,1,0,0,1,0,0,6,0,0,0,6\n",
      "lark,0,1,1,0,1,0,0,0,1,1,0,0,2,1,0,0,2\n",
      "leopard,1,0,0,1,0,0,1,1,1,1,0,0,4,1,0,1,1\n",
      "lion,1,0,0,1,0,0,1,1,1,1,0,0,4,1,0,1,1\n",
      "lobster,0,0,1,0,0,1,1,0,0,0,0,0,6,0,0,0,7\n",
      "lynx,1,0,0,1,0,0,1,1,1,1,0,0,4,1,0,1,1\n",
      "mink,1,0,0,1,0,1,1,1,1,1,0,0,4,1,0,1,1\n",
      "mole,1,0,0,1,0,0,1,1,1,1,0,0,4,1,0,0,1\n",
      "mongoose,1,0,0,1,0,0,1,1,1,1,0,0,4,1,0,1,1\n",
      "moth,1,0,1,0,1,0,0,0,0,1,0,0,6,0,0,0,6\n",
      "newt,0,0,1,0,0,1,1,1,1,1,0,0,4,1,0,0,5\n",
      "octopus,0,0,1,0,0,1,1,0,0,0,0,0,8,0,0,1,7\n",
      "opossum,1,0,0,1,0,0,1,1,1,1,0,0,4,1,0,0,1\n",
      "oryx,1,0,0,1,0,0,0,1,1,1,0,0,4,1,0,1,1\n",
      "ostrich,0,1,1,0,0,0,0,0,1,1,0,0,2,1,0,1,2\n",
      "parakeet,0,1,1,0,1,0,0,0,1,1,0,0,2,1,1,0,2\n",
      "penguin,0,1,1,0,0,1,1,0,1,1,0,0,2,1,0,1,2\n",
      "pheasant,0,1,1,0,1,0,0,0,1,1,0,0,2,1,0,0,2\n",
      "pike,0,0,1,0,0,1,1,1,1,0,0,1,0,1,0,1,4\n",
      "piranha,0,0,1,0,0,1,1,1,1,0,0,1,0,1,0,0,4\n",
      "pitviper,0,0,1,0,0,0,1,1,1,1,1,0,0,1,0,0,3\n",
      "platypus,1,0,1,1,0,1,1,0,1,1,0,0,4,1,0,1,1\n",
      "polecat,1,0,0,1,0,0,1,1,1,1,0,0,4,1,0,1,1\n",
      "pony,1,0,0,1,0,0,0,1,1,1,0,0,4,1,1,1,1\n",
      "porpoise,0,0,0,1,0,1,1,1,1,1,0,1,0,1,0,1,1\n",
      "puma,1,0,0,1,0,0,1,1,1,1,0,0,4,1,0,1,1\n",
      "pussycat,1,0,0,1,0,0,1,1,1,1,0,0,4,1,1,1,1\n",
      "raccoon,1,0,0,1,0,0,1,1,1,1,0,0,4,1,0,1,1\n",
      "reindeer,1,0,0,1,0,0,0,1,1,1,0,0,4,1,1,1,1\n",
      "rhea,0,1,1,0,0,0,1,0,1,1,0,0,2,1,0,1,2\n",
      "scorpion,0,0,0,0,0,0,1,0,0,1,1,0,8,1,0,0,7\n",
      "seahorse,0,0,1,0,0,1,0,1,1,0,0,1,0,1,0,0,4\n",
      "seal,1,0,0,1,0,1,1,1,1,1,0,1,0,0,0,1,1\n",
      "sealion,1,0,0,1,0,1,1,1,1,1,0,1,2,1,0,1,1\n",
      "seasnake,0,0,0,0,0,1,1,1,1,0,1,0,0,1,0,0,3\n",
      "seawasp,0,0,1,0,0,1,1,0,0,0,1,0,0,0,0,0,7\n",
      "skimmer,0,1,1,0,1,1,1,0,1,1,0,0,2,1,0,0,2\n",
      "skua,0,1,1,0,1,1,1,0,1,1,0,0,2,1,0,0,2\n",
      "slowworm,0,0,1,0,0,0,1,1,1,1,0,0,0,1,0,0,3\n",
      "slug,0,0,1,0,0,0,0,0,0,1,0,0,0,0,0,0,7\n",
      "sole,0,0,1,0,0,1,0,1,1,0,0,1,0,1,0,0,4\n",
      "sparrow,0,1,1,0,1,0,0,0,1,1,0,0,2,1,0,0,2\n",
      "squirrel,1,0,0,1,0,0,0,1,1,1,0,0,2,1,0,0,1\n",
      "starfish,0,0,1,0,0,1,1,0,0,0,0,0,5,0,0,0,7\n",
      "stingray,0,0,1,0,0,1,1,1,1,0,1,1,0,1,0,1,4\n",
      "swan,0,1,1,0,1,1,0,0,1,1,0,0,2,1,0,1,2\n",
      "termite,0,0,1,0,0,0,0,0,0,1,0,0,6,0,0,0,6\n",
      "toad,0,0,1,0,0,1,0,1,1,1,0,0,4,0,0,0,5\n",
      "tortoise,0,0,1,0,0,0,0,0,1,1,0,0,4,1,0,1,3\n",
      "tuatara,0,0,1,0,0,0,1,1,1,1,0,0,4,1,0,0,3\n",
      "tuna,0,0,1,0,0,1,1,1,1,0,0,1,0,1,0,1,4\n",
      "vampire,1,0,0,1,1,0,0,1,1,1,0,0,2,1,0,0,1\n",
      "vole,1,0,0,1,0,0,0,1,1,1,0,0,4,1,0,0,1\n",
      "vulture,0,1,1,0,1,0,1,0,1,1,0,0,2,1,0,1,2\n",
      "wallaby,1,0,0,1,0,0,0,1,1,1,0,0,2,1,0,1,1\n",
      "wasp,1,0,1,0,1,0,0,0,0,1,1,0,6,0,0,0,6\n",
      "wolf,1,0,0,1,0,0,1,1,1,1,0,0,4,1,0,1,1\n",
      "worm,0,0,1,0,0,0,0,0,0,1,0,0,0,0,0,0,7\n",
      "wren,0,1,1,0,1,0,0,0,1,1,0,0,2,1,0,0,2\n"
     ]
    }
   ],
   "source": [
    "%cat zoological_attributes.csv"
   ]
  },
  {
   "cell_type": "code",
   "execution_count": 295,
   "metadata": {},
   "outputs": [],
   "source": [
    "f = open('zoological_attributes.csv')\n",
    "\n",
    "for records in f_csv:\n",
    "    print('Animal is:', records.split(',')[0])\n",
    "    print('Aiborn?', records.split(',')[5])\n"
   ]
  },
  {
   "cell_type": "code",
   "execution_count": null,
   "metadata": {},
   "outputs": [],
   "source": [
    "import csv\n",
    "\n",
    "f = open('zoological_attributes.csv')\n",
    "\n",
    "f_csv = csv.reader(f, delimiter=';')\n",
    "\n",
    "for r in f_csv:\n",
    "    print('Animal is:', r[0])\n",
    "    print('Aiborn?', r[5])\n"
   ]
  },
  {
   "cell_type": "code",
   "execution_count": 362,
   "metadata": {},
   "outputs": [
    {
     "data": {
      "text/plain": [
       "['name',\n",
       " 'hair',\n",
       " 'feathers',\n",
       " 'eggs',\n",
       " 'milk',\n",
       " 'airborne',\n",
       " 'aquatic',\n",
       " 'predator',\n",
       " 'toothed',\n",
       " 'backbone',\n",
       " 'breathes',\n",
       " 'venomous',\n",
       " 'fins',\n",
       " 'legs',\n",
       " 'tail',\n",
       " 'domestic',\n",
       " 'catsize',\n",
       " 'type']"
      ]
     },
     "execution_count": 362,
     "metadata": {},
     "output_type": "execute_result"
    }
   ],
   "source": [
    "f = open('zoological_attributes.csv')\n",
    "\n",
    "f_csv = csv.DictReader(f)\n",
    "\n",
    "f_csv.fieldnames\n",
    "\n"
   ]
  },
  {
   "cell_type": "code",
   "execution_count": 369,
   "metadata": {},
   "outputs": [],
   "source": [
    "f = open('zoological_attributes.csv')\n",
    "\n",
    "f_csv = csv.DictReader(f)\n",
    "\n",
    "fw = open('trash.txt', 'w')\n",
    "fields= f_csv.fieldnames\n",
    "\n",
    "fw.write(','.join(fields))\n",
    "fw.close()"
   ]
  },
  {
   "cell_type": "code",
   "execution_count": 370,
   "metadata": {},
   "outputs": [
    {
     "name": "stdout",
     "output_type": "stream",
     "text": [
      "name,hair,feathers,eggs,milk,airborne,aquatic,predator,toothed,backbone,breathes,venomous,fins,legs,tail,domestic,catsize,type"
     ]
    }
   ],
   "source": [
    "%cat trash.txt"
   ]
  },
  {
   "cell_type": "code",
   "execution_count": 299,
   "metadata": {},
   "outputs": [
    {
     "name": "stdout",
     "output_type": "stream",
     "text": [
      "{'name': 0, 'hair': 0, 'feathers': 0, 'eggs': 0, 'milk': 0, 'airborne': 0, 'aquatic': 0, 'predator': 0, 'toothed': 0, 'backbone': 0, 'breathes': 0, 'venomous': 0, 'fins': 0, 'legs': 0, 'tail': 0, 'domestic': 0, 'catsize': 0, 'type': 0}\n"
     ]
    }
   ],
   "source": [
    "properties = dict.fromkeys(f_csv.fieldnames, 0)\n",
    "\n",
    "print(properties)\n",
    "\n",
    "\n",
    "    "
   ]
  },
  {
   "cell_type": "code",
   "execution_count": 290,
   "metadata": {},
   "outputs": [
    {
     "ename": "KeyError",
     "evalue": "0",
     "output_type": "error",
     "traceback": [
      "\u001b[0;31m---------------------------------------------------------------------------\u001b[0m",
      "\u001b[0;31mKeyError\u001b[0m                                  Traceback (most recent call last)",
      "\u001b[0;32m<ipython-input-290-9814eb3a02be>\u001b[0m in \u001b[0;36m<module>\u001b[0;34m\u001b[0m\n\u001b[1;32m      1\u001b[0m \u001b[0;32mfor\u001b[0m \u001b[0mr\u001b[0m \u001b[0;32min\u001b[0m \u001b[0mf_csv\u001b[0m\u001b[0;34m:\u001b[0m\u001b[0;34m\u001b[0m\u001b[0;34m\u001b[0m\u001b[0m\n\u001b[0;32m----> 2\u001b[0;31m     \u001b[0mprint\u001b[0m\u001b[0;34m(\u001b[0m\u001b[0mr\u001b[0m\u001b[0;34m[\u001b[0m\u001b[0;36m0\u001b[0m\u001b[0;34m]\u001b[0m\u001b[0;34m,\u001b[0m \u001b[0mr\u001b[0m\u001b[0;34m[\u001b[0m\u001b[0;36m1\u001b[0m\u001b[0;34m]\u001b[0m\u001b[0;34m,\u001b[0m \u001b[0mr\u001b[0m\u001b[0;34m[\u001b[0m\u001b[0;34m-\u001b[0m\u001b[0;36m1\u001b[0m\u001b[0;34m]\u001b[0m\u001b[0;34m)\u001b[0m\u001b[0;34m\u001b[0m\u001b[0;34m\u001b[0m\u001b[0m\n\u001b[0m\u001b[1;32m      3\u001b[0m \u001b[0;34m\u001b[0m\u001b[0m\n",
      "\u001b[0;31mKeyError\u001b[0m: 0"
     ]
    }
   ],
   "source": [
    "#for r in f_csv:\n",
    "#    print(r[0], r[1], r[-1])\n",
    "    "
   ]
  },
  {
   "cell_type": "code",
   "execution_count": 292,
   "metadata": {},
   "outputs": [
    {
     "data": {
      "text/plain": [
       "0"
      ]
     },
     "execution_count": 292,
     "metadata": {},
     "output_type": "execute_result"
    }
   ],
   "source": [
    "f.seek(0)\n",
    "\n",
    "\n",
    "print( f)"
   ]
  },
  {
   "cell_type": "code",
   "execution_count": 294,
   "metadata": {},
   "outputs": [
    {
     "name": "stdout",
     "output_type": "stream",
     "text": [
      "0\n",
      "0\n",
      "0\n",
      "0\n",
      "0\n",
      "0\n",
      "0\n",
      "0\n",
      "0\n",
      "0\n",
      "0\n",
      "1\n",
      "0\n",
      "0\n",
      "0\n",
      "0\n",
      "1\n",
      "0\n",
      "0\n",
      "0\n",
      "1\n",
      "1\n",
      "0\n",
      "1\n",
      "0\n",
      "0\n",
      "0\n",
      "1\n",
      "0\n",
      "0\n",
      "1\n",
      "0\n",
      "0\n",
      "1\n",
      "0\n",
      "0\n",
      "0\n",
      "1\n",
      "0\n",
      "1\n",
      "1\n",
      "0\n",
      "1\n",
      "1\n",
      "0\n",
      "0\n",
      "0\n",
      "0\n",
      "0\n",
      "0\n",
      "0\n",
      "1\n",
      "0\n",
      "0\n",
      "0\n",
      "0\n",
      "0\n",
      "1\n",
      "0\n",
      "1\n",
      "0\n",
      "0\n",
      "0\n",
      "0\n",
      "0\n",
      "0\n",
      "0\n",
      "0\n",
      "0\n",
      "0\n",
      "0\n",
      "0\n",
      "0\n",
      "0\n",
      "0\n",
      "0\n",
      "0\n",
      "0\n",
      "1\n",
      "1\n",
      "0\n",
      "0\n",
      "0\n",
      "1\n",
      "0\n",
      "0\n",
      "0\n",
      "1\n",
      "0\n",
      "0\n",
      "0\n",
      "0\n",
      "0\n",
      "1\n",
      "0\n",
      "1\n",
      "0\n",
      "1\n",
      "0\n",
      "0\n",
      "1\n"
     ]
    }
   ],
   "source": [
    "f.seek(0)\n",
    "\n",
    "next(f_csv)\n",
    "\n",
    "for records in f_csv:\n",
    "    print( records['name'])\n"
   ]
  },
  {
   "cell_type": "code",
   "execution_count": 300,
   "metadata": {},
   "outputs": [
    {
     "data": {
      "text/plain": [
       "{'name': 0,\n",
       " 'hair': 0,\n",
       " 'feathers': 0,\n",
       " 'eggs': 0,\n",
       " 'milk': 0,\n",
       " 'airborne': 0,\n",
       " 'aquatic': 0,\n",
       " 'predator': 0,\n",
       " 'toothed': 0,\n",
       " 'backbone': 0,\n",
       " 'breathes': 0,\n",
       " 'venomous': 0,\n",
       " 'fins': 0,\n",
       " 'legs': 0,\n",
       " 'tail': 0,\n",
       " 'domestic': 0,\n",
       " 'catsize': 0,\n",
       " 'type': 0}"
      ]
     },
     "execution_count": 300,
     "metadata": {},
     "output_type": "execute_result"
    }
   ],
   "source": [
    "properties"
   ]
  },
  {
   "cell_type": "code",
   "execution_count": 305,
   "metadata": {},
   "outputs": [],
   "source": [
    "\n",
    "f.seek(0)\n",
    "\n",
    "next(f_csv)\n",
    "\n",
    "for records in f_csv:\n",
    "    for p in list(properties.keys())[1:]:\n",
    "        #print(p, a)\n",
    "        properties[p] += int(records[p])\n",
    "        "
   ]
  },
  {
   "cell_type": "code",
   "execution_count": 306,
   "metadata": {},
   "outputs": [
    {
     "name": "stdout",
     "output_type": "stream",
     "text": [
      "{'name': 0, 'hair': 86, 'feathers': 20, 'eggs': 59, 'milk': 41, 'airborne': 24, 'aquatic': 36, 'predator': 56, 'toothed': 61, 'backbone': 83, 'breathes': 80, 'venomous': 8, 'fins': 17, 'legs': 287, 'tail': 75, 'domestic': 13, 'catsize': 44, 'type': 286}\n"
     ]
    }
   ],
   "source": [
    "print(properties)"
   ]
  },
  {
   "cell_type": "markdown",
   "metadata": {},
   "source": [
    "***\n",
    "\n",
    "# Make your computation of expected grades"
   ]
  },
  {
   "cell_type": "code",
   "execution_count": null,
   "metadata": {},
   "outputs": [],
   "source": []
  },
  {
   "cell_type": "code",
   "execution_count": 334,
   "metadata": {},
   "outputs": [
    {
     "data": {
      "text/plain": [
       "[<matplotlib.lines.Line2D at 0x7f8744bd6198>]"
      ]
     },
     "execution_count": 334,
     "metadata": {},
     "output_type": "execute_result"
    },
    {
     "data": {
      "image/png": "[encoded data removed]",
      "text/plain": [
       "<Figure size 780x520 with 1 Axes>"
      ]
     },
     "metadata": {
      "needs_background": "light"
     },
     "output_type": "display_data"
    }
   ],
   "source": [
    "y = [2,4,6,7,8,3,5]\n",
    "\n",
    "import numpy as np\n",
    "\n",
    "x = np.arange(-5, 6, 0.1)\n",
    "xx = []\n",
    "for i in x:\n",
    "    xx.append(i * i)\n",
    "plt.plot(y)\n",
    "\n",
    "plt.plot(x, xx)"
   ]
  },
  {
   "cell_type": "code",
   "execution_count": 358,
   "metadata": {},
   "outputs": [
    {
     "data": {
      "image/png": "[encoded data removed]",
      "text/plain": [
       "<Figure size 1300x390 with 3 Axes>"
      ]
     },
     "metadata": {
      "needs_background": "light"
     },
     "output_type": "display_data"
    }
   ],
   "source": [
    "import numpy as np  # this is only for arange()\n",
    "\n",
    "# this defines a plot which is composed of one row of three plots\n",
    "figure, subplots = plt.subplots(1, 3, figsize=(10, 3))\n",
    "\n",
    "# first plot, some random data\n",
    "y = [2,4,6,7,8,3,5]\n",
    "\n",
    "subplots[0].plot(y, c='g')\n",
    "\n",
    "# second plot, a parabola\n",
    "x = np.arange(-5, 6, 0.1)\n",
    "xx = []\n",
    "for i in x:\n",
    "    xx.append(i * i)\n",
    "    \n",
    "subplots[1].plot(x, xx, c='b')\n",
    "\n",
    "# third plot, a cubic \n",
    "x = np.arange(-5, 6, 0.1)\n",
    "xxx = []\n",
    "for i in x:\n",
    "    xxx.append(i * i * i)\n",
    "    \n",
    "subplots[2].plot(x, xxx, c='r')\n",
    "\n",
    "\n",
    "subplots[0].set_title('List data', fontsize=10)\n",
    "subplots[0].set_xlabel('Index', fontsize=10)\n",
    "subplots[0].set_ylabel('Random values', fontsize=10)\n",
    "\n",
    "subplots[1].set_title('Parabola', fontsize=10)\n",
    "subplots[1].set_xlabel('x', fontsize=10)\n",
    "subplots[1].set_ylabel('$y(x)=x^2$', fontsize=10)\n",
    "\n",
    "subplots[2].set_title('Cubic', fontsize=10)\n",
    "subplots[2].set_xlabel('x', fontsize=10)\n",
    "subplots[2].set_ylabel('$y(x)=x^3$', fontsize=10)\n",
    "\n",
    "plt.subplots_adjust(wspace=0.5)\n",
    "\n",
    "plt.show()"
   ]
  },
  {
   "cell_type": "code",
   "execution_count": null,
   "metadata": {},
   "outputs": [],
   "source": [
    "figure, subplots = plt.subplots(1, 2, figsize=(8, 3.5))\n",
    "subplots[0].plot(y)\n",
    "subplots[1].plot(x, xx)\n",
    "\n",
    "subplots[0].set_title('List data', fontsize=10)\n",
    "subplots[0].set_xlabel('Index', fontsize=10)\n",
    "subplots[0].set_ylabel('Random values', fontsize=10)\n",
    "\n",
    "\n",
    "subplots[1].set_title('Parabola', fontsize=10)\n",
    "subplots[1].set_xlabel('x', fontsize=10)\n",
    "subplots[1].set_ylabel('$y(x)=x^2$', fontsize=10)\n",
    "\n",
    "plt.subplots_adjust(wspace=0.5)\n",
    "\n",
    "plt.show()"
   ]
  },
  {
   "cell_type": "code",
   "execution_count": 359,
   "metadata": {},
   "outputs": [
    {
     "data": {
      "text/plain": [
       "1"
      ]
     },
     "execution_count": 359,
     "metadata": {},
     "output_type": "execute_result"
    }
   ],
   "source": [
    "y.count(3)"
   ]
  },
  {
   "cell_type": "code",
   "execution_count": 361,
   "metadata": {},
   "outputs": [
    {
     "data": {
      "text/plain": [
       "1"
      ]
     },
     "execution_count": 361,
     "metadata": {},
     "output_type": "execute_result"
    }
   ],
   "source": [
    "a = [1,4,6,8,4]\n",
    "a.count(1)"
   ]
  },
  {
   "cell_type": "code",
   "execution_count": 371,
   "metadata": {},
   "outputs": [
    {
     "name": "stdout",
     "output_type": "stream",
     "text": [
      "0, 645.03\n",
      "10, -15.5\n",
      "15, -172.17\n",
      "25, 10000.0\n",
      "32, 10457.36"
     ]
    }
   ],
   "source": [
    "%cat bank_statement.csv"
   ]
  },
  {
   "cell_type": "code",
   "execution_count": 380,
   "metadata": {},
   "outputs": [],
   "source": [
    "f = open('bank_statement.csv')"
   ]
  },
  {
   "cell_type": "code",
   "execution_count": 381,
   "metadata": {},
   "outputs": [
    {
     "name": "stdout",
     "output_type": "stream",
     "text": [
      "0 645.03\n",
      "10 -15.5\n",
      "15 -172.17\n",
      "25 10000.0\n",
      "32 10457.36\n"
     ]
    }
   ],
   "source": [
    "for r in f:\n",
    "    line = r.split(',')\n",
    "    a = int(line[0])\n",
    "    b = float(line[1])\n",
    "    print(a,b)\n",
    "    "
   ]
  },
  {
   "cell_type": "code",
   "execution_count": 390,
   "metadata": {},
   "outputs": [],
   "source": [
    "f = open('friends.txt', 'w')\n",
    "\n",
    "f.write('Homer: Apu , Moe\\n')\n",
    "f.write('Flanders: Homer , Apu , Moe\\n')\n",
    "f.write( 'Apu: \\n')\n",
    "f.write('Moe: Homer')\n",
    "f.close()"
   ]
  },
  {
   "cell_type": "code",
   "execution_count": 391,
   "metadata": {},
   "outputs": [
    {
     "name": "stdout",
     "output_type": "stream",
     "text": [
      "Homer: Apu , Moe\n",
      "Flanders: Homer , Apu , Moe\n",
      "Apu: \n",
      "Moe: Homer"
     ]
    }
   ],
   "source": [
    "%cat friends.txt"
   ]
  },
  {
   "cell_type": "code",
   "execution_count": 392,
   "metadata": {},
   "outputs": [
    {
     "name": "stdout",
     "output_type": "stream",
     "text": [
      "[Homer: Apu , Moe]\n",
      "[Flanders: Homer , Apu , Moe]\n",
      "[Apu:]\n",
      "[Moe: Homer]\n"
     ]
    }
   ],
   "source": [
    "f = open('friends.txt', 'r')\n",
    "\n",
    "friends = {}\n",
    "for line in f:\n",
    "    line = line.strip()\n",
    "    print('[' + line + ']')\n",
    "    people = line.replace(\":\",\"\").replace(\",\",\"\").split() \n",
    "    \n",
    "    if len(people) > 1:\n",
    "        friends[people[0]] = people[1:] \n",
    "    else:\n",
    "        friends[people[0]] = []\n"
   ]
  },
  {
   "cell_type": "code",
   "execution_count": 393,
   "metadata": {},
   "outputs": [
    {
     "data": {
      "text/plain": [
       "{'Homer': ['Apu', 'Moe'],\n",
       " 'Flanders': ['Homer', 'Apu', 'Moe'],\n",
       " 'Apu': [],\n",
       " 'Moe': ['Homer']}"
      ]
     },
     "execution_count": 393,
     "metadata": {},
     "output_type": "execute_result"
    }
   ],
   "source": [
    "friends"
   ]
  },
  {
   "cell_type": "code",
   "execution_count": 394,
   "metadata": {},
   "outputs": [],
   "source": [
    "x = [12, 45, 32, 65, 78, 23, 35, 45, 57]"
   ]
  },
  {
   "cell_type": "code",
   "execution_count": 396,
   "metadata": {},
   "outputs": [
    {
     "data": {
      "text/plain": [
       "[23, 35, 45, 57]"
      ]
     },
     "execution_count": 396,
     "metadata": {},
     "output_type": "execute_result"
    }
   ],
   "source": [
    "x[5:9]"
   ]
  },
  {
   "cell_type": "code",
   "execution_count": 397,
   "metadata": {},
   "outputs": [],
   "source": [
    "def chocolate_package(small, big, goal): \n",
    "    if small + big * 5 < goal:\n",
    "        return -1\n",
    "    big_bars = goal // 5 \n",
    "    if big_bars > big:\n",
    "        small_bars = (big_bars - big) * 5 \n",
    "    else:\n",
    "        small_bars = 0 \n",
    "    small_bars += goal % 5\n",
    "    if small_bars <= small: \n",
    "        return small_bars\n",
    "    else: \n",
    "        return -1"
   ]
  },
  {
   "cell_type": "code",
   "execution_count": 399,
   "metadata": {},
   "outputs": [
    {
     "data": {
      "text/plain": [
       "0"
      ]
     },
     "execution_count": 399,
     "metadata": {},
     "output_type": "execute_result"
    }
   ],
   "source": [
    "chocolate_package(6,2,5)"
   ]
  },
  {
   "cell_type": "code",
   "execution_count": 403,
   "metadata": {},
   "outputs": [
    {
     "data": {
      "text/plain": [
       "91.0"
      ]
     },
     "execution_count": 403,
     "metadata": {},
     "output_type": "execute_result"
    }
   ],
   "source": [
    "x = 60\n",
    "0.15*100 + 0.25*100 + 0.3*100 + 0.1*90 + 0.2*x"
   ]
  },
  {
   "cell_type": "code",
   "execution_count": null,
   "metadata": {},
   "outputs": [],
   "source": [
    "Homeworks: 15%\n",
    "Weekly, except on exam weeks\n",
    "To be solved individually (check the course policy on collaboration)\n",
    "Check the schedule for dates and deadlines\n",
    "Quizzes: 25%\n",
    "Weekly\n",
    "Administered at the beginning of the lecture or lab\n",
    "Individual and closed book\n",
    "Three midterms: 30% (10% each)\n",
    "Administered during normal class hours\n",
    "Individual and closed book\n",
    "Project: 10%\n",
    "Final exam: 20%\n",
    "Assignmen"
   ]
  }
 ],
 "metadata": {
  "kernelspec": {
   "display_name": "Python 3",
   "language": "python",
   "name": "python3"
  },
  "language_info": {
   "codemirror_mode": {
    "name": "ipython",
    "version": 3
   },
   "file_extension": ".py",
   "mimetype": "text/x-python",
   "name": "python",
   "nbconvert_exporter": "python",
   "pygments_lexer": "ipython3",
   "version": "3.7.6"
  }
 },
 "nbformat": 4,
 "nbformat_minor": 4
}
